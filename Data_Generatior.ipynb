{
  "nbformat": 4,
  "nbformat_minor": 0,
  "metadata": {
    "colab": {
      "provenance": []
    },
    "kernelspec": {
      "name": "python3",
      "display_name": "Python 3"
    },
    "language_info": {
      "name": "python"
    }
  },
  "cells": [
    {
      "cell_type": "code",
      "source": [
        "!pip install xlsxwriter\n"
      ],
      "metadata": {
        "id": "4ciEYlJWSX0X"
      },
      "execution_count": null,
      "outputs": []
    },
    {
      "cell_type": "code",
      "execution_count": null,
      "metadata": {
        "id": "584XLymzK3dG"
      },
      "outputs": [],
      "source": [
        "import random\n",
        "import pandas as pd\n",
        "import networkx as nx\n",
        "import matplotlib.pyplot as plt\n",
        "import numpy as np\n",
        "from google.colab import drive\n",
        "drive.mount('/content/drive')\n"
      ]
    },
    {
      "cell_type": "code",
      "source": [
        "#total capacity\n",
        "total_cap = 500\n",
        "#number of nodes\n",
        "num_of_nodes = 40\n",
        "#create balance values for 3 sources and 3 sinks\n",
        "sources_balance = np.random.randint(100, 150, size=3)\n",
        "sinks_balance = np.random.randint(100, 150, size=3)\n",
        "\n",
        "# Calculate the remaining source and sink to get equal value to total_cap\n",
        "last_source = total_cap - np.sum(sources_balance)\n",
        "last_sink = total_cap - np.sum(sinks_balance)\n",
        "\n",
        "sources_balance = np.append(sources_balance, last_source)\n",
        "sinks_balance = np.append(sinks_balance, last_sink)\n",
        "\n",
        "sheet_1 = pd.DataFrame(columns=['ID', 'Balance'])\n",
        "\n",
        "for i in range(4):\n",
        "  sheet_1 = sheet_1.append({'ID': i+1, 'Balance':sources_balance[i]}, ignore_index=True)\n",
        "  sheet_1 = sheet_1.append({'ID': num_of_nodes-i, 'Balance':-sinks_balance[i]}, ignore_index=True)\n",
        "for i in range(5, n-3):\n",
        "  sheet_1 = sheet_1.append({'ID': i, 'Balance': 0}, ignore_index=True)\n",
        "\n",
        "sheet_1 = sheet_1.sort_values(by='ID')\n",
        "\n"
      ],
      "metadata": {
        "id": "sBxTv-JiLX8A"
      },
      "execution_count": null,
      "outputs": []
    },
    {
      "cell_type": "code",
      "source": [
        "sheet_2 = pd.DataFrame(columns=['start_ID', 'end_ID', 'capacity', 'time'])\n",
        "time = []\n",
        "capacity = []\n",
        "for i in range(1, num_of_nodes-3):\n",
        "  time.append(np.random.randint(50, 100, size=4))\n",
        "  node_capacity = np.random.randint(100, 150, size=3)\n",
        "  last_capacity = total_cap - np.sum(node_capacity)\n",
        "  node_capacity = np.append(node_capacity, last_capacity)\n",
        "  capacity.append(node_capacity)"
      ],
      "metadata": {
        "id": "OmJiJuRTOVKf"
      },
      "execution_count": 19,
      "outputs": []
    },
    {
      "cell_type": "code",
      "source": [
        "for i in range(1, num_of_nodes-3):\n",
        "  level = int((i-1)/4)\n",
        "  for j in range(1, 5):\n",
        "    sheet_2 = sheet_2.append({'start_ID': i, 'end_ID': (level+1)*4+j,\n",
        "                              'capacity': capacity[i-1][j-1], 'time': time[i-1][j-1]}\n",
        "                             , ignore_index=True)"
      ],
      "metadata": {
        "id": "11pWgEaMQLcr"
      },
      "execution_count": null,
      "outputs": []
    },
    {
      "cell_type": "code",
      "source": [
        "print(sheet_1)\n",
        "print(sheet_2)"
      ],
      "metadata": {
        "id": "foRx8oMyR4pq"
      },
      "execution_count": null,
      "outputs": []
    },
    {
      "cell_type": "code",
      "source": [
        "excel_file_path = '/content/drive/MyDrive/Colab Notebooks/Data/mm_1.xlsx'\n",
        "\n",
        "# Create an Excel writer\n",
        "with pd.ExcelWriter(excel_file_path, engine='xlsxwriter') as writer:\n",
        "    # Write each DataFrame to a different sheet\n",
        "    sheet_1.to_excel(writer, sheet_name='Node', index=False)\n",
        "    sheet_2.to_excel(writer, sheet_name='Edge', index=False)\n"
      ],
      "metadata": {
        "id": "rq9LHAJUNGg6"
      },
      "execution_count": 15,
      "outputs": []
    }
  ]
}